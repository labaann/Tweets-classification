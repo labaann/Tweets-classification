{
 "cells": [
  {
   "cell_type": "markdown",
   "id": "76407cf7",
   "metadata": {},
   "source": [
    "# Import danych"
   ]
  },
  {
   "cell_type": "code",
   "execution_count": 1,
   "id": "c475890a",
   "metadata": {},
   "outputs": [],
   "source": [
    "import pandas as pd"
   ]
  },
  {
   "cell_type": "code",
   "execution_count": 2,
   "id": "a4a9b14d",
   "metadata": {},
   "outputs": [],
   "source": [
    "data = pd.read_csv('cyberbullying_tweets.csv')"
   ]
  },
  {
   "cell_type": "code",
   "execution_count": 3,
   "id": "d7fc9d71",
   "metadata": {
    "scrolled": true
   },
   "outputs": [
    {
     "data": {
      "text/html": [
       "<div>\n",
       "<style scoped>\n",
       "    .dataframe tbody tr th:only-of-type {\n",
       "        vertical-align: middle;\n",
       "    }\n",
       "\n",
       "    .dataframe tbody tr th {\n",
       "        vertical-align: top;\n",
       "    }\n",
       "\n",
       "    .dataframe thead th {\n",
       "        text-align: right;\n",
       "    }\n",
       "</style>\n",
       "<table border=\"1\" class=\"dataframe\">\n",
       "  <thead>\n",
       "    <tr style=\"text-align: right;\">\n",
       "      <th></th>\n",
       "      <th>tweet_text</th>\n",
       "      <th>cyberbullying_type</th>\n",
       "    </tr>\n",
       "  </thead>\n",
       "  <tbody>\n",
       "    <tr>\n",
       "      <th>0</th>\n",
       "      <td>In other words #katandandre, your food was cra...</td>\n",
       "      <td>not_cyberbullying</td>\n",
       "    </tr>\n",
       "    <tr>\n",
       "      <th>1</th>\n",
       "      <td>Why is #aussietv so white? #MKR #theblock #ImA...</td>\n",
       "      <td>not_cyberbullying</td>\n",
       "    </tr>\n",
       "    <tr>\n",
       "      <th>2</th>\n",
       "      <td>@XochitlSuckkks a classy whore? Or more red ve...</td>\n",
       "      <td>not_cyberbullying</td>\n",
       "    </tr>\n",
       "    <tr>\n",
       "      <th>3</th>\n",
       "      <td>@Jason_Gio meh. :P  thanks for the heads up, b...</td>\n",
       "      <td>not_cyberbullying</td>\n",
       "    </tr>\n",
       "    <tr>\n",
       "      <th>4</th>\n",
       "      <td>@RudhoeEnglish This is an ISIS account pretend...</td>\n",
       "      <td>not_cyberbullying</td>\n",
       "    </tr>\n",
       "    <tr>\n",
       "      <th>5</th>\n",
       "      <td>@Raja5aab @Quickieleaks Yes, the test of god i...</td>\n",
       "      <td>not_cyberbullying</td>\n",
       "    </tr>\n",
       "    <tr>\n",
       "      <th>6</th>\n",
       "      <td>Itu sekolah ya bukan tempat bully! Ga jauh kay...</td>\n",
       "      <td>not_cyberbullying</td>\n",
       "    </tr>\n",
       "    <tr>\n",
       "      <th>7</th>\n",
       "      <td>Karma. I hope it bites Kat on the butt. She is...</td>\n",
       "      <td>not_cyberbullying</td>\n",
       "    </tr>\n",
       "    <tr>\n",
       "      <th>8</th>\n",
       "      <td>@stockputout everything but mostly my priest</td>\n",
       "      <td>not_cyberbullying</td>\n",
       "    </tr>\n",
       "    <tr>\n",
       "      <th>9</th>\n",
       "      <td>Rebecca Black Drops Out of School Due to Bully...</td>\n",
       "      <td>not_cyberbullying</td>\n",
       "    </tr>\n",
       "  </tbody>\n",
       "</table>\n",
       "</div>"
      ],
      "text/plain": [
       "                                          tweet_text cyberbullying_type\n",
       "0  In other words #katandandre, your food was cra...  not_cyberbullying\n",
       "1  Why is #aussietv so white? #MKR #theblock #ImA...  not_cyberbullying\n",
       "2  @XochitlSuckkks a classy whore? Or more red ve...  not_cyberbullying\n",
       "3  @Jason_Gio meh. :P  thanks for the heads up, b...  not_cyberbullying\n",
       "4  @RudhoeEnglish This is an ISIS account pretend...  not_cyberbullying\n",
       "5  @Raja5aab @Quickieleaks Yes, the test of god i...  not_cyberbullying\n",
       "6  Itu sekolah ya bukan tempat bully! Ga jauh kay...  not_cyberbullying\n",
       "7  Karma. I hope it bites Kat on the butt. She is...  not_cyberbullying\n",
       "8       @stockputout everything but mostly my priest  not_cyberbullying\n",
       "9  Rebecca Black Drops Out of School Due to Bully...  not_cyberbullying"
      ]
     },
     "execution_count": 3,
     "metadata": {},
     "output_type": "execute_result"
    }
   ],
   "source": [
    "data.head(10)"
   ]
  },
  {
   "cell_type": "code",
   "execution_count": 4,
   "id": "90933265",
   "metadata": {},
   "outputs": [
    {
     "data": {
      "text/plain": [
       "array(['not_cyberbullying', 'gender', 'religion', 'other_cyberbullying',\n",
       "       'age', 'ethnicity'], dtype=object)"
      ]
     },
     "execution_count": 4,
     "metadata": {},
     "output_type": "execute_result"
    }
   ],
   "source": [
    "data['cyberbullying_type'].unique()"
   ]
  },
  {
   "cell_type": "code",
   "execution_count": 5,
   "id": "e58a47c8",
   "metadata": {},
   "outputs": [
    {
     "name": "stdout",
     "output_type": "stream",
     "text": [
      "<class 'pandas.core.frame.DataFrame'>\n",
      "RangeIndex: 47692 entries, 0 to 47691\n",
      "Data columns (total 2 columns):\n",
      " #   Column              Non-Null Count  Dtype \n",
      "---  ------              --------------  ----- \n",
      " 0   tweet_text          47692 non-null  object\n",
      " 1   cyberbullying_type  47692 non-null  object\n",
      "dtypes: object(2)\n",
      "memory usage: 745.3+ KB\n"
     ]
    }
   ],
   "source": [
    "data.info()"
   ]
  },
  {
   "cell_type": "markdown",
   "id": "087b6938",
   "metadata": {},
   "source": [
    "# Wstępne oczyszczanie danych"
   ]
  },
  {
   "cell_type": "code",
   "execution_count": 6,
   "id": "ada7095b",
   "metadata": {},
   "outputs": [],
   "source": [
    "data = data.rename(columns = {'tweet_text':'text'})"
   ]
  },
  {
   "cell_type": "code",
   "execution_count": 7,
   "id": "c4cfc09b",
   "metadata": {},
   "outputs": [
    {
     "data": {
      "text/plain": [
       "36"
      ]
     },
     "execution_count": 7,
     "metadata": {},
     "output_type": "execute_result"
    }
   ],
   "source": [
    "data.duplicated().sum()"
   ]
  },
  {
   "cell_type": "code",
   "execution_count": 8,
   "id": "f3769076",
   "metadata": {},
   "outputs": [],
   "source": [
    "data = data[~data.duplicated()]"
   ]
  },
  {
   "cell_type": "code",
   "execution_count": 9,
   "id": "d1ffc3d4",
   "metadata": {},
   "outputs": [
    {
     "data": {
      "text/plain": [
       "0"
      ]
     },
     "execution_count": 9,
     "metadata": {},
     "output_type": "execute_result"
    }
   ],
   "source": [
    "data.duplicated().sum()"
   ]
  },
  {
   "cell_type": "code",
   "execution_count": 10,
   "id": "2fc84f93",
   "metadata": {},
   "outputs": [
    {
     "data": {
      "text/html": [
       "<div>\n",
       "<style scoped>\n",
       "    .dataframe tbody tr th:only-of-type {\n",
       "        vertical-align: middle;\n",
       "    }\n",
       "\n",
       "    .dataframe tbody tr th {\n",
       "        vertical-align: top;\n",
       "    }\n",
       "\n",
       "    .dataframe thead th {\n",
       "        text-align: right;\n",
       "    }\n",
       "</style>\n",
       "<table border=\"1\" class=\"dataframe\">\n",
       "  <thead>\n",
       "    <tr style=\"text-align: right;\">\n",
       "      <th></th>\n",
       "      <th>text</th>\n",
       "      <th>cyberbullying_type</th>\n",
       "    </tr>\n",
       "  </thead>\n",
       "  <tbody>\n",
       "    <tr>\n",
       "      <th>0</th>\n",
       "      <td>In other words #katandandre, your food was cra...</td>\n",
       "      <td>not_cyberbullying</td>\n",
       "    </tr>\n",
       "    <tr>\n",
       "      <th>1</th>\n",
       "      <td>Why is #aussietv so white? #MKR #theblock #ImA...</td>\n",
       "      <td>not_cyberbullying</td>\n",
       "    </tr>\n",
       "    <tr>\n",
       "      <th>2</th>\n",
       "      <td>@XochitlSuckkks a classy whore? Or more red ve...</td>\n",
       "      <td>not_cyberbullying</td>\n",
       "    </tr>\n",
       "    <tr>\n",
       "      <th>3</th>\n",
       "      <td>@Jason_Gio meh. :P  thanks for the heads up, b...</td>\n",
       "      <td>not_cyberbullying</td>\n",
       "    </tr>\n",
       "    <tr>\n",
       "      <th>4</th>\n",
       "      <td>@RudhoeEnglish This is an ISIS account pretend...</td>\n",
       "      <td>not_cyberbullying</td>\n",
       "    </tr>\n",
       "  </tbody>\n",
       "</table>\n",
       "</div>"
      ],
      "text/plain": [
       "                                                text cyberbullying_type\n",
       "0  In other words #katandandre, your food was cra...  not_cyberbullying\n",
       "1  Why is #aussietv so white? #MKR #theblock #ImA...  not_cyberbullying\n",
       "2  @XochitlSuckkks a classy whore? Or more red ve...  not_cyberbullying\n",
       "3  @Jason_Gio meh. :P  thanks for the heads up, b...  not_cyberbullying\n",
       "4  @RudhoeEnglish This is an ISIS account pretend...  not_cyberbullying"
      ]
     },
     "execution_count": 10,
     "metadata": {},
     "output_type": "execute_result"
    }
   ],
   "source": [
    "data.head()"
   ]
  },
  {
   "cell_type": "code",
   "execution_count": 11,
   "id": "98980f0d",
   "metadata": {},
   "outputs": [
    {
     "name": "stdout",
     "output_type": "stream",
     "text": [
      "<class 'pandas.core.frame.DataFrame'>\n",
      "Int64Index: 47656 entries, 0 to 47691\n",
      "Data columns (total 2 columns):\n",
      " #   Column              Non-Null Count  Dtype \n",
      "---  ------              --------------  ----- \n",
      " 0   text                47656 non-null  object\n",
      " 1   cyberbullying_type  47656 non-null  object\n",
      "dtypes: object(2)\n",
      "memory usage: 1.1+ MB\n"
     ]
    }
   ],
   "source": [
    "data.info()"
   ]
  },
  {
   "cell_type": "code",
   "execution_count": 12,
   "id": "aa937026",
   "metadata": {},
   "outputs": [
    {
     "data": {
      "text/plain": [
       "religion               7997\n",
       "age                    7992\n",
       "ethnicity              7959\n",
       "gender                 7948\n",
       "not_cyberbullying      7937\n",
       "other_cyberbullying    7823\n",
       "Name: cyberbullying_type, dtype: int64"
      ]
     },
     "execution_count": 12,
     "metadata": {},
     "output_type": "execute_result"
    }
   ],
   "source": [
    "data.cyberbullying_type.value_counts()"
   ]
  },
  {
   "cell_type": "markdown",
   "id": "6e431246",
   "metadata": {},
   "source": [
    "# Wstępne przetwarzanie danych"
   ]
  },
  {
   "cell_type": "code",
   "execution_count": 13,
   "id": "448f23ef",
   "metadata": {},
   "outputs": [],
   "source": [
    "import re, string\n",
    "import demoji\n",
    "import string\n",
    "import nltk\n",
    "from nltk.stem import WordNetLemmatizer,PorterStemmer\n",
    "\n",
    "import matplotlib.pyplot as plt\n",
    "import seaborn as sns\n",
    "import numpy as np\n",
    "\n",
    "import random\n",
    "\n",
    "from sklearn import preprocessing\n",
    "from sklearn.model_selection import train_test_split\n",
    "from imblearn.over_sampling import RandomOverSampler\n",
    "\n",
    "from nltk.corpus import stopwords\n",
    "from sklearn.metrics import classification_report, confusion_matrix\n",
    "\n",
    "from sklearn.feature_extraction.text import CountVectorizer\n",
    "from sklearn.feature_extraction.text import TfidfTransformer\n",
    "from sklearn.naive_bayes import MultinomialNB\n",
    "\n",
    "from sklearn import svm\n",
    "from sklearn.multiclass import OneVsRestClassifier\n",
    "\n",
    "seed_value=8\n",
    "random.seed(seed_value)\n",
    "np.random.seed(seed_value)"
   ]
  },
  {
   "cell_type": "code",
   "execution_count": 14,
   "id": "d79e3114",
   "metadata": {},
   "outputs": [],
   "source": [
    "# to remove stop words which will not be analyzed during classification\n",
    "stop_words = set(stopwords.words('english'))"
   ]
  },
  {
   "cell_type": "code",
   "execution_count": 15,
   "id": "f36d5c1f",
   "metadata": {},
   "outputs": [
    {
     "data": {
      "text/plain": [
       "'!\"#$%&\\'()*+,-./:;<=>?@[\\\\]^_`{|}~'"
      ]
     },
     "execution_count": 15,
     "metadata": {},
     "output_type": "execute_result"
    }
   ],
   "source": [
    "string.punctuation"
   ]
  },
  {
   "cell_type": "code",
   "execution_count": 16,
   "id": "a37bbe1a",
   "metadata": {},
   "outputs": [],
   "source": [
    "def remove_emoji(text):\n",
    "    return demoji.replace(text, '')"
   ]
  },
  {
   "cell_type": "code",
   "execution_count": 17,
   "id": "e9bf500f",
   "metadata": {},
   "outputs": [],
   "source": [
    "def remove_entities(text): \n",
    "    text = text.replace('\\r', '').replace('\\n', ' ').lower() #remove \\n and \\r and lowercase\n",
    "    text = re.sub(r\"(?:\\@|https?\\://)\\S+\", \"\", text) #remove links and mentions\n",
    "    text = re.sub(r'[^\\x00-\\x7f]',r'', text) #remove non ASCII characters\n",
    "    text = re.sub(r'[^\\w]', ' ', text) # remove non alphanumeric symbol  \n",
    "    text = re.sub(r'\\s+', ' ', str(text)) #remove whitespaces\n",
    "    banned_list= string.punctuation\n",
    "    table = str.maketrans('', '', banned_list)\n",
    "    text = text.translate(table)\n",
    "    text = [word for word in text.split() if word not in stop_words]\n",
    "    text = ' '.join(text)\n",
    "    text =' '.join(word for word in text.split())\n",
    "    return text"
   ]
  },
  {
   "cell_type": "code",
   "execution_count": 18,
   "id": "66f3dca4",
   "metadata": {},
   "outputs": [],
   "source": [
    "def decontract(text):\n",
    "    text = re.sub(r\"can\\'t\", \"can not\", text)\n",
    "    text = re.sub(r\"n\\'t\", \" not\", text)\n",
    "    text = re.sub(r\"\\'re\", \" are\", text)\n",
    "    text = re.sub(r\"\\'s\", \" is\", text)\n",
    "    text = re.sub(r\"\\'d\", \" would\", text)\n",
    "    text = re.sub(r\"\\'ll\", \" will\", text)\n",
    "    text = re.sub(r\"\\'t\", \" not\", text)\n",
    "    text = re.sub(r\"\\'ve\", \" have\", text)\n",
    "    text = re.sub(r\"\\'m\", \" am\", text)\n",
    "    return text"
   ]
  },
  {
   "cell_type": "code",
   "execution_count": 19,
   "id": "d066278e",
   "metadata": {},
   "outputs": [],
   "source": [
    "def remove_hashtags(tweet):\n",
    "    new = \" \".join(word.strip() for word in re.split('#(?!(?:hashtag)\\b)[\\w-]+(?=(?:\\s+#[\\w-]+)*\\s*$)', tweet)) #remove last hashtags\n",
    "    new2 = \" \".join(word.strip() for word in re.split('#|_', new)) #remove hashtags symbol from words in the middle of the sentence\n",
    "    return new2"
   ]
  },
  {
   "cell_type": "code",
   "execution_count": 20,
   "id": "70d247cc",
   "metadata": {},
   "outputs": [],
   "source": [
    "def stemmer(text):\n",
    "    tokenized = nltk.word_tokenize(text)\n",
    "    ps = PorterStemmer()\n",
    "    return ' '.join([ps.stem(words) for words in tokenized])"
   ]
  },
  {
   "cell_type": "code",
   "execution_count": 21,
   "id": "33bc9ad5",
   "metadata": {},
   "outputs": [],
   "source": [
    "def lemmatize(text):\n",
    "    tokenized = nltk.word_tokenize(text)\n",
    "    lm = WordNetLemmatizer()\n",
    "    return ' '.join([lm.lemmatize(words) for words in tokenized])"
   ]
  },
  {
   "cell_type": "code",
   "execution_count": 22,
   "id": "1e7d2ecb",
   "metadata": {},
   "outputs": [],
   "source": [
    "def deep_clean(text):\n",
    "    text = remove_emoji(text)\n",
    "    text = decontract(text)\n",
    "    text = remove_entities(text)\n",
    "    text = remove_hashtags(text)\n",
    "    #text = filter_chars(text)\n",
    "    #text = remove_mult_spaces(text)\n",
    "    text = stemmer(text)\n",
    "    return text"
   ]
  },
  {
   "cell_type": "code",
   "execution_count": 23,
   "id": "d79c4f35",
   "metadata": {},
   "outputs": [],
   "source": [
    "data_new = []\n",
    "for text in data.text:\n",
    "    data_new.append(deep_clean(text))"
   ]
  },
  {
   "cell_type": "code",
   "execution_count": 24,
   "id": "634fd8cc",
   "metadata": {},
   "outputs": [],
   "source": [
    "data['cleaned_text'] = data_new"
   ]
  },
  {
   "cell_type": "code",
   "execution_count": 25,
   "id": "564343f1",
   "metadata": {},
   "outputs": [],
   "source": [
    "text_len = []\n",
    "for text in data.cleaned_text:\n",
    "    tweet_len = len(text.split())\n",
    "    text_len.append(tweet_len)\n",
    "data['text_len'] = text_len"
   ]
  },
  {
   "cell_type": "code",
   "execution_count": 26,
   "id": "bf4ff3cd",
   "metadata": {},
   "outputs": [
    {
     "data": {
      "text/html": [
       "<div>\n",
       "<style scoped>\n",
       "    .dataframe tbody tr th:only-of-type {\n",
       "        vertical-align: middle;\n",
       "    }\n",
       "\n",
       "    .dataframe tbody tr th {\n",
       "        vertical-align: top;\n",
       "    }\n",
       "\n",
       "    .dataframe thead th {\n",
       "        text-align: right;\n",
       "    }\n",
       "</style>\n",
       "<table border=\"1\" class=\"dataframe\">\n",
       "  <thead>\n",
       "    <tr style=\"text-align: right;\">\n",
       "      <th></th>\n",
       "      <th>text</th>\n",
       "      <th>cyberbullying_type</th>\n",
       "      <th>cleaned_text</th>\n",
       "      <th>text_len</th>\n",
       "    </tr>\n",
       "  </thead>\n",
       "  <tbody>\n",
       "    <tr>\n",
       "      <th>0</th>\n",
       "      <td>In other words #katandandre, your food was cra...</td>\n",
       "      <td>not_cyberbullying</td>\n",
       "      <td>word katandandr food crapilici mkr</td>\n",
       "      <td>5</td>\n",
       "    </tr>\n",
       "    <tr>\n",
       "      <th>1</th>\n",
       "      <td>Why is #aussietv so white? #MKR #theblock #ImA...</td>\n",
       "      <td>not_cyberbullying</td>\n",
       "      <td>aussietv white mkr theblock imacelebrityau tod...</td>\n",
       "      <td>11</td>\n",
       "    </tr>\n",
       "    <tr>\n",
       "      <th>2</th>\n",
       "      <td>@XochitlSuckkks a classy whore? Or more red ve...</td>\n",
       "      <td>not_cyberbullying</td>\n",
       "      <td>classi whore red velvet cupcak</td>\n",
       "      <td>5</td>\n",
       "    </tr>\n",
       "    <tr>\n",
       "      <th>3</th>\n",
       "      <td>@Jason_Gio meh. :P  thanks for the heads up, b...</td>\n",
       "      <td>not_cyberbullying</td>\n",
       "      <td>meh p thank head concern anoth angri dude twitter</td>\n",
       "      <td>9</td>\n",
       "    </tr>\n",
       "    <tr>\n",
       "      <th>4</th>\n",
       "      <td>@RudhoeEnglish This is an ISIS account pretend...</td>\n",
       "      <td>not_cyberbullying</td>\n",
       "      <td>isi account pretend kurdish account like islam...</td>\n",
       "      <td>8</td>\n",
       "    </tr>\n",
       "  </tbody>\n",
       "</table>\n",
       "</div>"
      ],
      "text/plain": [
       "                                                text cyberbullying_type  \\\n",
       "0  In other words #katandandre, your food was cra...  not_cyberbullying   \n",
       "1  Why is #aussietv so white? #MKR #theblock #ImA...  not_cyberbullying   \n",
       "2  @XochitlSuckkks a classy whore? Or more red ve...  not_cyberbullying   \n",
       "3  @Jason_Gio meh. :P  thanks for the heads up, b...  not_cyberbullying   \n",
       "4  @RudhoeEnglish This is an ISIS account pretend...  not_cyberbullying   \n",
       "\n",
       "                                        cleaned_text  text_len  \n",
       "0                 word katandandr food crapilici mkr         5  \n",
       "1  aussietv white mkr theblock imacelebrityau tod...        11  \n",
       "2                     classi whore red velvet cupcak         5  \n",
       "3  meh p thank head concern anoth angri dude twitter         9  \n",
       "4  isi account pretend kurdish account like islam...         8  "
      ]
     },
     "execution_count": 26,
     "metadata": {},
     "output_type": "execute_result"
    }
   ],
   "source": [
    "data.head()"
   ]
  },
  {
   "cell_type": "code",
   "execution_count": 27,
   "id": "3feb11d5",
   "metadata": {},
   "outputs": [
    {
     "data": {
      "text/plain": [
       "2968"
      ]
     },
     "execution_count": 27,
     "metadata": {},
     "output_type": "execute_result"
    }
   ],
   "source": [
    "data.cleaned_text.duplicated().sum()"
   ]
  },
  {
   "cell_type": "code",
   "execution_count": 28,
   "id": "43b00842",
   "metadata": {},
   "outputs": [],
   "source": [
    "data.drop_duplicates('cleaned_text', inplace=True)"
   ]
  },
  {
   "cell_type": "code",
   "execution_count": 29,
   "id": "06033f8f",
   "metadata": {},
   "outputs": [
    {
     "data": {
      "text/plain": [
       "religion               7954\n",
       "age                    7884\n",
       "ethnicity              7776\n",
       "not_cyberbullying      7658\n",
       "gender                 7619\n",
       "other_cyberbullying    5797\n",
       "Name: cyberbullying_type, dtype: int64"
      ]
     },
     "execution_count": 29,
     "metadata": {},
     "output_type": "execute_result"
    }
   ],
   "source": [
    "# sprawdzenie liczności każdej z klas\n",
    "data.cyberbullying_type.value_counts()"
   ]
  },
  {
   "cell_type": "code",
   "execution_count": 30,
   "id": "3c441b07",
   "metadata": {},
   "outputs": [],
   "source": [
    "# usunięcie klasy o mniejszej liczności niż pozostałe\n",
    "data = data[data['cyberbullying_type'] != 'other_cyberbullying']"
   ]
  },
  {
   "cell_type": "code",
   "execution_count": 31,
   "id": "cad86414",
   "metadata": {},
   "outputs": [
    {
     "data": {
      "text/plain": [
       "religion             7954\n",
       "age                  7884\n",
       "ethnicity            7776\n",
       "not_cyberbullying    7658\n",
       "gender               7619\n",
       "Name: cyberbullying_type, dtype: int64"
      ]
     },
     "execution_count": 31,
     "metadata": {},
     "output_type": "execute_result"
    }
   ],
   "source": [
    "data.cyberbullying_type.value_counts()"
   ]
  },
  {
   "cell_type": "code",
   "execution_count": 32,
   "id": "f2cef175",
   "metadata": {},
   "outputs": [
    {
     "data": {
      "text/html": [
       "<div>\n",
       "<style scoped>\n",
       "    .dataframe tbody tr th:only-of-type {\n",
       "        vertical-align: middle;\n",
       "    }\n",
       "\n",
       "    .dataframe tbody tr th {\n",
       "        vertical-align: top;\n",
       "    }\n",
       "\n",
       "    .dataframe thead th {\n",
       "        text-align: right;\n",
       "    }\n",
       "</style>\n",
       "<table border=\"1\" class=\"dataframe\">\n",
       "  <thead>\n",
       "    <tr style=\"text-align: right;\">\n",
       "      <th></th>\n",
       "      <th>text</th>\n",
       "      <th>cyberbullying_type</th>\n",
       "      <th>cleaned_text</th>\n",
       "      <th>text_len</th>\n",
       "    </tr>\n",
       "  </thead>\n",
       "  <tbody>\n",
       "    <tr>\n",
       "      <th>0</th>\n",
       "      <td>In other words #katandandre, your food was cra...</td>\n",
       "      <td>not_cyberbullying</td>\n",
       "      <td>word katandandr food crapilici mkr</td>\n",
       "      <td>5</td>\n",
       "    </tr>\n",
       "    <tr>\n",
       "      <th>1</th>\n",
       "      <td>Why is #aussietv so white? #MKR #theblock #ImA...</td>\n",
       "      <td>not_cyberbullying</td>\n",
       "      <td>aussietv white mkr theblock imacelebrityau tod...</td>\n",
       "      <td>11</td>\n",
       "    </tr>\n",
       "    <tr>\n",
       "      <th>2</th>\n",
       "      <td>@XochitlSuckkks a classy whore? Or more red ve...</td>\n",
       "      <td>not_cyberbullying</td>\n",
       "      <td>classi whore red velvet cupcak</td>\n",
       "      <td>5</td>\n",
       "    </tr>\n",
       "    <tr>\n",
       "      <th>3</th>\n",
       "      <td>@Jason_Gio meh. :P  thanks for the heads up, b...</td>\n",
       "      <td>not_cyberbullying</td>\n",
       "      <td>meh p thank head concern anoth angri dude twitter</td>\n",
       "      <td>9</td>\n",
       "    </tr>\n",
       "    <tr>\n",
       "      <th>4</th>\n",
       "      <td>@RudhoeEnglish This is an ISIS account pretend...</td>\n",
       "      <td>not_cyberbullying</td>\n",
       "      <td>isi account pretend kurdish account like islam...</td>\n",
       "      <td>8</td>\n",
       "    </tr>\n",
       "  </tbody>\n",
       "</table>\n",
       "</div>"
      ],
      "text/plain": [
       "                                                text cyberbullying_type  \\\n",
       "0  In other words #katandandre, your food was cra...  not_cyberbullying   \n",
       "1  Why is #aussietv so white? #MKR #theblock #ImA...  not_cyberbullying   \n",
       "2  @XochitlSuckkks a classy whore? Or more red ve...  not_cyberbullying   \n",
       "3  @Jason_Gio meh. :P  thanks for the heads up, b...  not_cyberbullying   \n",
       "4  @RudhoeEnglish This is an ISIS account pretend...  not_cyberbullying   \n",
       "\n",
       "                                        cleaned_text  text_len  \n",
       "0                 word katandandr food crapilici mkr         5  \n",
       "1  aussietv white mkr theblock imacelebrityau tod...        11  \n",
       "2                     classi whore red velvet cupcak         5  \n",
       "3  meh p thank head concern anoth angri dude twitter         9  \n",
       "4  isi account pretend kurdish account like islam...         8  "
      ]
     },
     "execution_count": 32,
     "metadata": {},
     "output_type": "execute_result"
    }
   ],
   "source": [
    "data.head()"
   ]
  },
  {
   "cell_type": "code",
   "execution_count": 33,
   "id": "471aae49",
   "metadata": {},
   "outputs": [
    {
     "data": {
      "image/png": "[encoded data removed]",
      "text/plain": [
       "<Figure size 504x360 with 1 Axes>"
      ]
     },
     "metadata": {
      "needs_background": "light"
     },
     "output_type": "display_data"
    }
   ],
   "source": [
    "plt.figure(figsize=(7,5))\n",
    "ax = sns.countplot(x='text_len', data=data[data['text_len']<15], palette='rocket')\n",
    "plt.title('Liczba wpisów składających się z mniej niż 15 słów', fontsize=20)\n",
    "plt.ylabel('Ilość wpisów')\n",
    "plt.xlabel('Liczba słów')\n",
    "for label in ax.containers:\n",
    "    ax.bar_label(label)\n",
    "plt.show()"
   ]
  },
  {
   "cell_type": "code",
   "execution_count": 34,
   "id": "64b5bf69",
   "metadata": {},
   "outputs": [],
   "source": [
    "# usunięcie tweetów z mniej niż 3 słowami\n",
    "data = data[data['text_len'] > 2]"
   ]
  },
  {
   "cell_type": "code",
   "execution_count": 35,
   "id": "4a179cc4",
   "metadata": {},
   "outputs": [],
   "source": [
    "x = data['text_len'].unique().sort()"
   ]
  },
  {
   "cell_type": "code",
   "execution_count": 36,
   "id": "a5d916c4",
   "metadata": {},
   "outputs": [
    {
     "data": {
      "image/png": "[encoded data removed]",
      "text/plain": [
       "<Figure size 1296x360 with 1 Axes>"
      ]
     },
     "metadata": {
      "needs_background": "light"
     },
     "output_type": "display_data"
    }
   ],
   "source": [
    "plt.figure(figsize=(18,5))\n",
    "ax = sns.countplot(x='text_len', data=data[data['text_len']>14], palette='flare')\n",
    "plt.title('Liczba wpisów składających się z 15 słów lub więcej', fontsize=20)\n",
    "plt.ylabel('Ilość wpisów')\n",
    "plt.xlabel('Liczba słów')\n",
    "for label in ax.containers:\n",
    "    ax.bar_label(label)\n",
    "plt.show()"
   ]
  },
  {
   "cell_type": "code",
   "execution_count": 37,
   "id": "90b7f33f",
   "metadata": {},
   "outputs": [],
   "source": [
    "# usunięcie tweetów z więcej niż 50 słowami\n",
    "data = data[data['text_len'] < 50]"
   ]
  },
  {
   "cell_type": "markdown",
   "id": "ae5ea748",
   "metadata": {},
   "source": [
    "Zamiana kategorii na wartości liczbowe."
   ]
  },
  {
   "cell_type": "code",
   "execution_count": 38,
   "id": "3a8e2279",
   "metadata": {},
   "outputs": [],
   "source": [
    "encoding_classes = {'religion':0,'age':1,'ethnicity':2,'gender':3,'not_cyberbullying':4}\n",
    "data['class'] = data['cyberbullying_type'].replace(encoding_classes)"
   ]
  },
  {
   "cell_type": "code",
   "execution_count": 39,
   "id": "5e0ad61f",
   "metadata": {},
   "outputs": [
    {
     "data": {
      "text/html": [
       "<div>\n",
       "<style scoped>\n",
       "    .dataframe tbody tr th:only-of-type {\n",
       "        vertical-align: middle;\n",
       "    }\n",
       "\n",
       "    .dataframe tbody tr th {\n",
       "        vertical-align: top;\n",
       "    }\n",
       "\n",
       "    .dataframe thead th {\n",
       "        text-align: right;\n",
       "    }\n",
       "</style>\n",
       "<table border=\"1\" class=\"dataframe\">\n",
       "  <thead>\n",
       "    <tr style=\"text-align: right;\">\n",
       "      <th></th>\n",
       "      <th>text</th>\n",
       "      <th>cyberbullying_type</th>\n",
       "      <th>cleaned_text</th>\n",
       "      <th>text_len</th>\n",
       "      <th>class</th>\n",
       "    </tr>\n",
       "  </thead>\n",
       "  <tbody>\n",
       "    <tr>\n",
       "      <th>45930</th>\n",
       "      <td>Get off ur ego trip, take off ur rose colored ...</td>\n",
       "      <td>ethnicity</td>\n",
       "      <td>get ur ego trip take ur rose color glass amp g...</td>\n",
       "      <td>45</td>\n",
       "      <td>2</td>\n",
       "    </tr>\n",
       "    <tr>\n",
       "      <th>21040</th>\n",
       "      <td>QUESTIONS 1)4x4-BONES 2)Black And Blue-Crystal...</td>\n",
       "      <td>religion</td>\n",
       "      <td>question 1 4x4 bone 2 black blue crystal lake ...</td>\n",
       "      <td>44</td>\n",
       "      <td>0</td>\n",
       "    </tr>\n",
       "    <tr>\n",
       "      <th>21241</th>\n",
       "      <td>And yet God was able to meet their needs using...</td>\n",
       "      <td>religion</td>\n",
       "      <td>yet god abl meet need use radic everyday gener...</td>\n",
       "      <td>44</td>\n",
       "      <td>0</td>\n",
       "    </tr>\n",
       "    <tr>\n",
       "      <th>42863</th>\n",
       "      <td>THIS IS WHY I SANK THE BITCH ASS KRAKAS...SAME...</td>\n",
       "      <td>ethnicity</td>\n",
       "      <td>sank bitch ass kraka shit fuka even know build...</td>\n",
       "      <td>43</td>\n",
       "      <td>2</td>\n",
       "    </tr>\n",
       "    <tr>\n",
       "      <th>41749</th>\n",
       "      <td>@seijohgorl hoy mami keito AAAA okay so um ika...</td>\n",
       "      <td>ethnicity</td>\n",
       "      <td>hoy mami keito aaaa okay um ikaw talaga one fi...</td>\n",
       "      <td>43</td>\n",
       "      <td>2</td>\n",
       "    </tr>\n",
       "    <tr>\n",
       "      <th>...</th>\n",
       "      <td>...</td>\n",
       "      <td>...</td>\n",
       "      <td>...</td>\n",
       "      <td>...</td>\n",
       "      <td>...</td>\n",
       "    </tr>\n",
       "    <tr>\n",
       "      <th>4222</th>\n",
       "      <td>Oh man, yes! https://t.co/OspX66okpB</td>\n",
       "      <td>not_cyberbullying</td>\n",
       "      <td>oh man ye</td>\n",
       "      <td>3</td>\n",
       "      <td>4</td>\n",
       "    </tr>\n",
       "    <tr>\n",
       "      <th>4214</th>\n",
       "      <td>Manu just shut her up 😂🙌🙌 #mkr</td>\n",
       "      <td>not_cyberbullying</td>\n",
       "      <td>manu shut mkr</td>\n",
       "      <td>3</td>\n",
       "      <td>4</td>\n",
       "    </tr>\n",
       "    <tr>\n",
       "      <th>4209</th>\n",
       "      <td>This class is going by SO SLOW. 🕡🕟🕠🕞🕥🕗🕛</td>\n",
       "      <td>not_cyberbullying</td>\n",
       "      <td>class go slow</td>\n",
       "      <td>3</td>\n",
       "      <td>4</td>\n",
       "    </tr>\n",
       "    <tr>\n",
       "      <th>4198</th>\n",
       "      <td>I just want everyone to be happy!</td>\n",
       "      <td>not_cyberbullying</td>\n",
       "      <td>want everyon happi</td>\n",
       "      <td>3</td>\n",
       "      <td>4</td>\n",
       "    </tr>\n",
       "    <tr>\n",
       "      <th>36282</th>\n",
       "      <td>Coward, school bully.</td>\n",
       "      <td>age</td>\n",
       "      <td>coward school bulli</td>\n",
       "      <td>3</td>\n",
       "      <td>1</td>\n",
       "    </tr>\n",
       "  </tbody>\n",
       "</table>\n",
       "<p>38034 rows × 5 columns</p>\n",
       "</div>"
      ],
      "text/plain": [
       "                                                    text cyberbullying_type  \\\n",
       "45930  Get off ur ego trip, take off ur rose colored ...          ethnicity   \n",
       "21040  QUESTIONS 1)4x4-BONES 2)Black And Blue-Crystal...           religion   \n",
       "21241  And yet God was able to meet their needs using...           religion   \n",
       "42863  THIS IS WHY I SANK THE BITCH ASS KRAKAS...SAME...          ethnicity   \n",
       "41749  @seijohgorl hoy mami keito AAAA okay so um ika...          ethnicity   \n",
       "...                                                  ...                ...   \n",
       "4222                Oh man, yes! https://t.co/OspX66okpB  not_cyberbullying   \n",
       "4214                      Manu just shut her up 😂🙌🙌 #mkr  not_cyberbullying   \n",
       "4209             This class is going by SO SLOW. 🕡🕟🕠🕞🕥🕗🕛  not_cyberbullying   \n",
       "4198                   I just want everyone to be happy!  not_cyberbullying   \n",
       "36282                              Coward, school bully.                age   \n",
       "\n",
       "                                            cleaned_text  text_len  class  \n",
       "45930  get ur ego trip take ur rose color glass amp g...        45      2  \n",
       "21040  question 1 4x4 bone 2 black blue crystal lake ...        44      0  \n",
       "21241  yet god abl meet need use radic everyday gener...        44      0  \n",
       "42863  sank bitch ass kraka shit fuka even know build...        43      2  \n",
       "41749  hoy mami keito aaaa okay um ikaw talaga one fi...        43      2  \n",
       "...                                                  ...       ...    ...  \n",
       "4222                                           oh man ye         3      4  \n",
       "4214                                       manu shut mkr         3      4  \n",
       "4209                                       class go slow         3      4  \n",
       "4198                                  want everyon happi         3      4  \n",
       "36282                                coward school bulli         3      1  \n",
       "\n",
       "[38034 rows x 5 columns]"
      ]
     },
     "execution_count": 39,
     "metadata": {},
     "output_type": "execute_result"
    }
   ],
   "source": [
    "data.sort_values('text_len', ascending=False)"
   ]
  },
  {
   "cell_type": "code",
   "execution_count": 40,
   "id": "c7a3fef1",
   "metadata": {},
   "outputs": [
    {
     "data": {
      "text/plain": [
       "religion             7944\n",
       "age                  7869\n",
       "ethnicity            7761\n",
       "gender               7470\n",
       "not_cyberbullying    6990\n",
       "Name: cyberbullying_type, dtype: int64"
      ]
     },
     "execution_count": 40,
     "metadata": {},
     "output_type": "execute_result"
    }
   ],
   "source": [
    "data.cyberbullying_type.value_counts()"
   ]
  },
  {
   "cell_type": "code",
   "execution_count": 41,
   "id": "9bf9b6b0",
   "metadata": {},
   "outputs": [],
   "source": [
    "classes = ['religion', 'age', 'ethnicity', 'gender', 'not_cyberbullying']"
   ]
  },
  {
   "cell_type": "markdown",
   "id": "3c26d7ed",
   "metadata": {},
   "source": [
    "# Tworzenie wektorów z danymi"
   ]
  },
  {
   "cell_type": "code",
   "execution_count": 42,
   "id": "b2071923",
   "metadata": {},
   "outputs": [],
   "source": [
    "def stemming(text):\n",
    "    tokenized = nltk.word_tokenize(text)\n",
    "    ps = PorterStemmer()\n",
    "    return [ps.stem(words) for words in tokenized]"
   ]
  },
  {
   "cell_type": "code",
   "execution_count": 43,
   "id": "11ce1546",
   "metadata": {},
   "outputs": [],
   "source": [
    "data_new2 = []\n",
    "for text in data.cleaned_text:\n",
    "    data_new2.append(stemming(text))"
   ]
  },
  {
   "cell_type": "code",
   "execution_count": 44,
   "id": "6651352b",
   "metadata": {},
   "outputs": [],
   "source": [
    "data['svm_text'] = data_new2"
   ]
  },
  {
   "cell_type": "code",
   "execution_count": 45,
   "id": "3abac45e",
   "metadata": {},
   "outputs": [],
   "source": [
    "import collections\n",
    "def count_words(input):\n",
    "    cnt = collections.Counter()\n",
    "    for row in input:\n",
    "        for word in row:\n",
    "            cnt[word] += 1\n",
    "    return cnt"
   ]
  },
  {
   "cell_type": "code",
   "execution_count": 46,
   "id": "bbacea2a",
   "metadata": {},
   "outputs": [
    {
     "data": {
      "text/html": [
       "<div>\n",
       "<style scoped>\n",
       "    .dataframe tbody tr th:only-of-type {\n",
       "        vertical-align: middle;\n",
       "    }\n",
       "\n",
       "    .dataframe tbody tr th {\n",
       "        vertical-align: top;\n",
       "    }\n",
       "\n",
       "    .dataframe thead th {\n",
       "        text-align: right;\n",
       "    }\n",
       "</style>\n",
       "<table border=\"1\" class=\"dataframe\">\n",
       "  <thead>\n",
       "    <tr style=\"text-align: right;\">\n",
       "      <th></th>\n",
       "      <th>text</th>\n",
       "      <th>cyberbullying_type</th>\n",
       "      <th>cleaned_text</th>\n",
       "      <th>text_len</th>\n",
       "      <th>class</th>\n",
       "      <th>svm_text</th>\n",
       "    </tr>\n",
       "  </thead>\n",
       "  <tbody>\n",
       "    <tr>\n",
       "      <th>0</th>\n",
       "      <td>In other words #katandandre, your food was cra...</td>\n",
       "      <td>not_cyberbullying</td>\n",
       "      <td>word katandandr food crapilici mkr</td>\n",
       "      <td>5</td>\n",
       "      <td>4</td>\n",
       "      <td>[word, katandandr, food, crapilici, mkr]</td>\n",
       "    </tr>\n",
       "    <tr>\n",
       "      <th>1</th>\n",
       "      <td>Why is #aussietv so white? #MKR #theblock #ImA...</td>\n",
       "      <td>not_cyberbullying</td>\n",
       "      <td>aussietv white mkr theblock imacelebrityau tod...</td>\n",
       "      <td>11</td>\n",
       "      <td>4</td>\n",
       "      <td>[aussietv, white, mkr, theblock, imacelebritya...</td>\n",
       "    </tr>\n",
       "    <tr>\n",
       "      <th>2</th>\n",
       "      <td>@XochitlSuckkks a classy whore? Or more red ve...</td>\n",
       "      <td>not_cyberbullying</td>\n",
       "      <td>classi whore red velvet cupcak</td>\n",
       "      <td>5</td>\n",
       "      <td>4</td>\n",
       "      <td>[classi, whore, red, velvet, cupcak]</td>\n",
       "    </tr>\n",
       "    <tr>\n",
       "      <th>3</th>\n",
       "      <td>@Jason_Gio meh. :P  thanks for the heads up, b...</td>\n",
       "      <td>not_cyberbullying</td>\n",
       "      <td>meh p thank head concern anoth angri dude twitter</td>\n",
       "      <td>9</td>\n",
       "      <td>4</td>\n",
       "      <td>[meh, p, thank, head, concern, anoth, angri, d...</td>\n",
       "    </tr>\n",
       "    <tr>\n",
       "      <th>4</th>\n",
       "      <td>@RudhoeEnglish This is an ISIS account pretend...</td>\n",
       "      <td>not_cyberbullying</td>\n",
       "      <td>isi account pretend kurdish account like islam...</td>\n",
       "      <td>8</td>\n",
       "      <td>4</td>\n",
       "      <td>[isi, account, pretend, kurdish, account, like...</td>\n",
       "    </tr>\n",
       "  </tbody>\n",
       "</table>\n",
       "</div>"
      ],
      "text/plain": [
       "                                                text cyberbullying_type  \\\n",
       "0  In other words #katandandre, your food was cra...  not_cyberbullying   \n",
       "1  Why is #aussietv so white? #MKR #theblock #ImA...  not_cyberbullying   \n",
       "2  @XochitlSuckkks a classy whore? Or more red ve...  not_cyberbullying   \n",
       "3  @Jason_Gio meh. :P  thanks for the heads up, b...  not_cyberbullying   \n",
       "4  @RudhoeEnglish This is an ISIS account pretend...  not_cyberbullying   \n",
       "\n",
       "                                        cleaned_text  text_len  class  \\\n",
       "0                 word katandandr food crapilici mkr         5      4   \n",
       "1  aussietv white mkr theblock imacelebrityau tod...        11      4   \n",
       "2                     classi whore red velvet cupcak         5      4   \n",
       "3  meh p thank head concern anoth angri dude twitter         9      4   \n",
       "4  isi account pretend kurdish account like islam...         8      4   \n",
       "\n",
       "                                            svm_text  \n",
       "0           [word, katandandr, food, crapilici, mkr]  \n",
       "1  [aussietv, white, mkr, theblock, imacelebritya...  \n",
       "2               [classi, whore, red, velvet, cupcak]  \n",
       "3  [meh, p, thank, head, concern, anoth, angri, d...  \n",
       "4  [isi, account, pretend, kurdish, account, like...  "
      ]
     },
     "execution_count": 46,
     "metadata": {},
     "output_type": "execute_result"
    }
   ],
   "source": [
    "data.head()"
   ]
  },
  {
   "cell_type": "markdown",
   "id": "25426673",
   "metadata": {},
   "source": [
    "# Podział na zbiór testowy i treningowy"
   ]
  },
  {
   "cell_type": "code",
   "execution_count": 47,
   "id": "080ab327",
   "metadata": {},
   "outputs": [],
   "source": [
    "X = data['cleaned_text']\n",
    "y = data['class']\n",
    "X_train, X_test, y_train, y_test = train_test_split(X, y, test_size=0.20, stratify=y, random_state=seed_value)"
   ]
  },
  {
   "cell_type": "code",
   "execution_count": 48,
   "id": "b1af833a",
   "metadata": {},
   "outputs": [
    {
     "data": {
      "text/plain": [
       "array([[   0, 6355],\n",
       "       [   1, 6295],\n",
       "       [   2, 6209],\n",
       "       [   3, 5976],\n",
       "       [   4, 5592]])"
      ]
     },
     "execution_count": 48,
     "metadata": {},
     "output_type": "execute_result"
    }
   ],
   "source": [
    "(unique, counts) = np.unique(y_train, return_counts=True)\n",
    "np.asarray((unique, counts)).T"
   ]
  },
  {
   "cell_type": "markdown",
   "id": "a4ec40f7",
   "metadata": {},
   "source": [
    "Ponieważ klasy nie są równoliczne, generujemy dodatkowe próbki."
   ]
  },
  {
   "cell_type": "code",
   "execution_count": 49,
   "id": "2c74db7f",
   "metadata": {},
   "outputs": [],
   "source": [
    "#ros = RandomOverSampler()\n",
    "#X_train, y_train = ros.fit_resample(np.array(X_train).reshape(-1, 1), np.array(y_train).reshape(-1, 1));\n",
    "#train_os = pd.DataFrame(list(zip([x[0] for x in X_train], y_train)), columns = ['cleaned_text', 'class']);"
   ]
  },
  {
   "cell_type": "code",
   "execution_count": 50,
   "id": "2230eb0f",
   "metadata": {},
   "outputs": [],
   "source": [
    "#X_train = train_os['cleaned_text'].values\n",
    "#y_train = train_os['class'].values"
   ]
  },
  {
   "cell_type": "code",
   "execution_count": 51,
   "id": "0366ef25",
   "metadata": {},
   "outputs": [
    {
     "data": {
      "text/plain": [
       "array([[   0, 6355],\n",
       "       [   1, 6295],\n",
       "       [   2, 6209],\n",
       "       [   3, 5976],\n",
       "       [   4, 5592]])"
      ]
     },
     "execution_count": 51,
     "metadata": {},
     "output_type": "execute_result"
    }
   ],
   "source": [
    "(unique, counts) = np.unique(y_train, return_counts=True)\n",
    "np.asarray((unique, counts)).T"
   ]
  },
  {
   "cell_type": "markdown",
   "id": "0a516045",
   "metadata": {},
   "source": [
    "# Najczęściej występujące słowa dla każdej z klas"
   ]
  },
  {
   "cell_type": "code",
   "execution_count": 52,
   "id": "4ea5a57a",
   "metadata": {},
   "outputs": [
    {
     "data": {
      "text/plain": [
       "[('muslim', 4837),\n",
       " ('idiot', 3132),\n",
       " ('islam', 2508),\n",
       " ('christian', 2201),\n",
       " ('u', 1585),\n",
       " ('terrorist', 1450),\n",
       " ('right', 1334),\n",
       " ('like', 1283),\n",
       " ('support', 1263),\n",
       " ('terror', 1252)]"
      ]
     },
     "execution_count": 52,
     "metadata": {},
     "output_type": "execute_result"
    }
   ],
   "source": [
    "data[(data.cyberbullying_type == 'religion')][['svm_text']].apply(count_words)['svm_text'].most_common(10)"
   ]
  },
  {
   "cell_type": "code",
   "execution_count": 53,
   "id": "0125d791",
   "metadata": {},
   "outputs": [
    {
     "data": {
      "text/plain": [
       "[('bulli', 8983),\n",
       " ('school', 8527),\n",
       " ('high', 4999),\n",
       " ('girl', 4646),\n",
       " ('like', 2084),\n",
       " ('get', 1053),\n",
       " ('one', 1050),\n",
       " ('peopl', 934),\n",
       " ('got', 841),\n",
       " ('kid', 817)]"
      ]
     },
     "execution_count": 53,
     "metadata": {},
     "output_type": "execute_result"
    }
   ],
   "source": [
    "data[(data.cyberbullying_type == 'age')][['svm_text']].apply(count_words)['svm_text'].most_common(10)"
   ]
  },
  {
   "cell_type": "code",
   "execution_count": 54,
   "id": "69b050fa",
   "metadata": {},
   "outputs": [
    {
     "data": {
      "text/plain": [
       "[('joke', 5232),\n",
       " ('rape', 4235),\n",
       " ('gay', 4012),\n",
       " ('call', 1402),\n",
       " ('make', 1289),\n",
       " ('rt', 1215),\n",
       " ('bitch', 1151),\n",
       " ('femal', 1127),\n",
       " ('peopl', 998),\n",
       " ('like', 985)]"
      ]
     },
     "execution_count": 54,
     "metadata": {},
     "output_type": "execute_result"
    }
   ],
   "source": [
    "data[(data.cyberbullying_type == 'gender')][['svm_text']].apply(count_words)['svm_text'].most_common(10)"
   ]
  },
  {
   "cell_type": "code",
   "execution_count": 55,
   "id": "de04cb37",
   "metadata": {},
   "outputs": [
    {
     "data": {
      "text/plain": [
       "[('fuck', 5934),\n",
       " ('nigger', 5578),\n",
       " ('dumb', 5035),\n",
       " ('ass', 2252),\n",
       " ('black', 2169),\n",
       " ('u', 1842),\n",
       " ('white', 1582),\n",
       " ('call', 1385),\n",
       " ('rt', 1193),\n",
       " ('peopl', 1180)]"
      ]
     },
     "execution_count": 55,
     "metadata": {},
     "output_type": "execute_result"
    }
   ],
   "source": [
    "data[(data.cyberbullying_type == 'ethnicity')][['svm_text']].apply(count_words)['svm_text'].most_common(10)"
   ]
  },
  {
   "cell_type": "code",
   "execution_count": 56,
   "id": "b2ff6927",
   "metadata": {},
   "outputs": [
    {
     "data": {
      "text/plain": [
       "[('mkr', 1557),\n",
       " ('bulli', 1138),\n",
       " ('rt', 773),\n",
       " ('get', 422),\n",
       " ('like', 416),\n",
       " ('go', 382),\n",
       " ('school', 368),\n",
       " ('kat', 295),\n",
       " ('would', 285),\n",
       " ('amp', 281)]"
      ]
     },
     "execution_count": 56,
     "metadata": {},
     "output_type": "execute_result"
    }
   ],
   "source": [
    "data[(data.cyberbullying_type == 'not_cyberbullying')][['svm_text']].apply(count_words)['svm_text'].most_common(10)"
   ]
  },
  {
   "cell_type": "markdown",
   "id": "5bff0265",
   "metadata": {},
   "source": [
    "# Naive Bayes"
   ]
  },
  {
   "cell_type": "code",
   "execution_count": 57,
   "id": "67a6c05e",
   "metadata": {},
   "outputs": [],
   "source": [
    "clf = CountVectorizer()\n",
    "X_train_cv =  clf.fit_transform(X_train)\n",
    "X_test_cv = clf.transform(X_test)"
   ]
  },
  {
   "cell_type": "code",
   "execution_count": 58,
   "id": "ecd069eb",
   "metadata": {},
   "outputs": [],
   "source": [
    "tf_transformer = TfidfTransformer(use_idf=True).fit(X_train_cv)\n",
    "X_train_tf = tf_transformer.transform(X_train_cv)\n",
    "X_test_tf = tf_transformer.transform(X_test_cv)"
   ]
  },
  {
   "cell_type": "code",
   "execution_count": 59,
   "id": "a5a409a3",
   "metadata": {},
   "outputs": [
    {
     "data": {
      "text/html": [
       "<style>#sk-container-id-1 {color: black;background-color: white;}#sk-container-id-1 pre{padding: 0;}#sk-container-id-1 div.sk-toggleable {background-color: white;}#sk-container-id-1 label.sk-toggleable__label {cursor: pointer;display: block;width: 100%;margin-bottom: 0;padding: 0.3em;box-sizing: border-box;text-align: center;}#sk-container-id-1 label.sk-toggleable__label-arrow:before {content: \"▸\";float: left;margin-right: 0.25em;color: #696969;}#sk-container-id-1 label.sk-toggleable__label-arrow:hover:before {color: black;}#sk-container-id-1 div.sk-estimator:hover label.sk-toggleable__label-arrow:before {color: black;}#sk-container-id-1 div.sk-toggleable__content {max-height: 0;max-width: 0;overflow: hidden;text-align: left;background-color: #f0f8ff;}#sk-container-id-1 div.sk-toggleable__content pre {margin: 0.2em;color: black;border-radius: 0.25em;background-color: #f0f8ff;}#sk-container-id-1 input.sk-toggleable__control:checked~div.sk-toggleable__content {max-height: 200px;max-width: 100%;overflow: auto;}#sk-container-id-1 input.sk-toggleable__control:checked~label.sk-toggleable__label-arrow:before {content: \"▾\";}#sk-container-id-1 div.sk-estimator input.sk-toggleable__control:checked~label.sk-toggleable__label {background-color: #d4ebff;}#sk-container-id-1 div.sk-label input.sk-toggleable__control:checked~label.sk-toggleable__label {background-color: #d4ebff;}#sk-container-id-1 input.sk-hidden--visually {border: 0;clip: rect(1px 1px 1px 1px);clip: rect(1px, 1px, 1px, 1px);height: 1px;margin: -1px;overflow: hidden;padding: 0;position: absolute;width: 1px;}#sk-container-id-1 div.sk-estimator {font-family: monospace;background-color: #f0f8ff;border: 1px dotted black;border-radius: 0.25em;box-sizing: border-box;margin-bottom: 0.5em;}#sk-container-id-1 div.sk-estimator:hover {background-color: #d4ebff;}#sk-container-id-1 div.sk-parallel-item::after {content: \"\";width: 100%;border-bottom: 1px solid gray;flex-grow: 1;}#sk-container-id-1 div.sk-label:hover label.sk-toggleable__label {background-color: #d4ebff;}#sk-container-id-1 div.sk-serial::before {content: \"\";position: absolute;border-left: 1px solid gray;box-sizing: border-box;top: 0;bottom: 0;left: 50%;z-index: 0;}#sk-container-id-1 div.sk-serial {display: flex;flex-direction: column;align-items: center;background-color: white;padding-right: 0.2em;padding-left: 0.2em;position: relative;}#sk-container-id-1 div.sk-item {position: relative;z-index: 1;}#sk-container-id-1 div.sk-parallel {display: flex;align-items: stretch;justify-content: center;background-color: white;position: relative;}#sk-container-id-1 div.sk-item::before, #sk-container-id-1 div.sk-parallel-item::before {content: \"\";position: absolute;border-left: 1px solid gray;box-sizing: border-box;top: 0;bottom: 0;left: 50%;z-index: -1;}#sk-container-id-1 div.sk-parallel-item {display: flex;flex-direction: column;z-index: 1;position: relative;background-color: white;}#sk-container-id-1 div.sk-parallel-item:first-child::after {align-self: flex-end;width: 50%;}#sk-container-id-1 div.sk-parallel-item:last-child::after {align-self: flex-start;width: 50%;}#sk-container-id-1 div.sk-parallel-item:only-child::after {width: 0;}#sk-container-id-1 div.sk-dashed-wrapped {border: 1px dashed gray;margin: 0 0.4em 0.5em 0.4em;box-sizing: border-box;padding-bottom: 0.4em;background-color: white;}#sk-container-id-1 div.sk-label label {font-family: monospace;font-weight: bold;display: inline-block;line-height: 1.2em;}#sk-container-id-1 div.sk-label-container {text-align: center;}#sk-container-id-1 div.sk-container {/* jupyter's `normalize.less` sets `[hidden] { display: none; }` but bootstrap.min.css set `[hidden] { display: none !important; }` so we also need the `!important` here to be able to override the default hidden behavior on the sphinx rendered scikit-learn.org. See: https://github.com/scikit-learn/scikit-learn/issues/21755 */display: inline-block !important;position: relative;}#sk-container-id-1 div.sk-text-repr-fallback {display: none;}</style><div id=\"sk-container-id-1\" class=\"sk-top-container\"><div class=\"sk-text-repr-fallback\"><pre>MultinomialNB()</pre><b>In a Jupyter environment, please rerun this cell to show the HTML representation or trust the notebook. <br />On GitHub, the HTML representation is unable to render, please try loading this page with nbviewer.org.</b></div><div class=\"sk-container\" hidden><div class=\"sk-item\"><div class=\"sk-estimator sk-toggleable\"><input class=\"sk-toggleable__control sk-hidden--visually\" id=\"sk-estimator-id-1\" type=\"checkbox\" checked><label for=\"sk-estimator-id-1\" class=\"sk-toggleable__label sk-toggleable__label-arrow\">MultinomialNB</label><div class=\"sk-toggleable__content\"><pre>MultinomialNB()</pre></div></div></div></div></div>"
      ],
      "text/plain": [
       "MultinomialNB()"
      ]
     },
     "execution_count": 59,
     "metadata": {},
     "output_type": "execute_result"
    }
   ],
   "source": [
    "nb_clf = MultinomialNB()\n",
    "nb_clf.fit(X_train_tf, y_train)"
   ]
  },
  {
   "cell_type": "code",
   "execution_count": 60,
   "id": "9b491009",
   "metadata": {},
   "outputs": [],
   "source": [
    "nb_pred = nb_clf.predict(X_test_tf)"
   ]
  },
  {
   "cell_type": "code",
   "execution_count": 74,
   "id": "e580d09a",
   "metadata": {},
   "outputs": [
    {
     "name": "stdout",
     "output_type": "stream",
     "text": [
      "Results for Naive Bayes:\n",
      "                    precision    recall  f1-score   support\n",
      "\n",
      "         religion       0.83      0.97      0.89      1589\n",
      "              age       0.77      0.98      0.86      1574\n",
      "        ethnicity       0.89      0.92      0.90      1552\n",
      "           gender       0.89      0.85      0.87      1494\n",
      "not_cyberbullying       0.85      0.43      0.57      1398\n",
      "\n",
      "         accuracy                           0.84      7607\n",
      "        macro avg       0.84      0.83      0.82      7607\n",
      "     weighted avg       0.84      0.84      0.82      7607\n",
      "\n"
     ]
    }
   ],
   "source": [
    "print('Results for Naive Bayes:\\n',\n",
    "      classification_report(y_test, nb_pred, target_names=classes))"
   ]
  },
  {
   "cell_type": "code",
   "execution_count": 72,
   "id": "80304b8b",
   "metadata": {},
   "outputs": [
    {
     "data": {
      "image/png": "[encoded data removed]",
      "text/plain": [
       "<Figure size 432x288 with 2 Axes>"
      ]
     },
     "metadata": {
      "needs_background": "light"
     },
     "output_type": "display_data"
    }
   ],
   "source": [
    "conf_matrix = confusion_matrix(y_test, nb_pred)\n",
    "sns.heatmap(conf_matrix,\n",
    "            annot=True,\n",
    "            fmt='g',\n",
    "            xticklabels=classes,\n",
    "            yticklabels=classes,\n",
    "    )\n",
    "plt.ylabel('Prediction',fontsize=15)\n",
    "plt.xlabel('Actual',fontsize=15)\n",
    "plt.title('Confusion Matrix for Naive Bayes',fontsize=20)\n",
    "plt.show()"
   ]
  },
  {
   "cell_type": "markdown",
   "id": "d3547e2a",
   "metadata": {},
   "source": [
    "# SVM"
   ]
  },
  {
   "cell_type": "code",
   "execution_count": 63,
   "id": "d3ca0137",
   "metadata": {},
   "outputs": [],
   "source": [
    "from sklearn.svm import LinearSVC"
   ]
  },
  {
   "cell_type": "code",
   "execution_count": 64,
   "id": "9f954493",
   "metadata": {},
   "outputs": [
    {
     "data": {
      "text/html": [
       "<style>#sk-container-id-2 {color: black;background-color: white;}#sk-container-id-2 pre{padding: 0;}#sk-container-id-2 div.sk-toggleable {background-color: white;}#sk-container-id-2 label.sk-toggleable__label {cursor: pointer;display: block;width: 100%;margin-bottom: 0;padding: 0.3em;box-sizing: border-box;text-align: center;}#sk-container-id-2 label.sk-toggleable__label-arrow:before {content: \"▸\";float: left;margin-right: 0.25em;color: #696969;}#sk-container-id-2 label.sk-toggleable__label-arrow:hover:before {color: black;}#sk-container-id-2 div.sk-estimator:hover label.sk-toggleable__label-arrow:before {color: black;}#sk-container-id-2 div.sk-toggleable__content {max-height: 0;max-width: 0;overflow: hidden;text-align: left;background-color: #f0f8ff;}#sk-container-id-2 div.sk-toggleable__content pre {margin: 0.2em;color: black;border-radius: 0.25em;background-color: #f0f8ff;}#sk-container-id-2 input.sk-toggleable__control:checked~div.sk-toggleable__content {max-height: 200px;max-width: 100%;overflow: auto;}#sk-container-id-2 input.sk-toggleable__control:checked~label.sk-toggleable__label-arrow:before {content: \"▾\";}#sk-container-id-2 div.sk-estimator input.sk-toggleable__control:checked~label.sk-toggleable__label {background-color: #d4ebff;}#sk-container-id-2 div.sk-label input.sk-toggleable__control:checked~label.sk-toggleable__label {background-color: #d4ebff;}#sk-container-id-2 input.sk-hidden--visually {border: 0;clip: rect(1px 1px 1px 1px);clip: rect(1px, 1px, 1px, 1px);height: 1px;margin: -1px;overflow: hidden;padding: 0;position: absolute;width: 1px;}#sk-container-id-2 div.sk-estimator {font-family: monospace;background-color: #f0f8ff;border: 1px dotted black;border-radius: 0.25em;box-sizing: border-box;margin-bottom: 0.5em;}#sk-container-id-2 div.sk-estimator:hover {background-color: #d4ebff;}#sk-container-id-2 div.sk-parallel-item::after {content: \"\";width: 100%;border-bottom: 1px solid gray;flex-grow: 1;}#sk-container-id-2 div.sk-label:hover label.sk-toggleable__label {background-color: #d4ebff;}#sk-container-id-2 div.sk-serial::before {content: \"\";position: absolute;border-left: 1px solid gray;box-sizing: border-box;top: 0;bottom: 0;left: 50%;z-index: 0;}#sk-container-id-2 div.sk-serial {display: flex;flex-direction: column;align-items: center;background-color: white;padding-right: 0.2em;padding-left: 0.2em;position: relative;}#sk-container-id-2 div.sk-item {position: relative;z-index: 1;}#sk-container-id-2 div.sk-parallel {display: flex;align-items: stretch;justify-content: center;background-color: white;position: relative;}#sk-container-id-2 div.sk-item::before, #sk-container-id-2 div.sk-parallel-item::before {content: \"\";position: absolute;border-left: 1px solid gray;box-sizing: border-box;top: 0;bottom: 0;left: 50%;z-index: -1;}#sk-container-id-2 div.sk-parallel-item {display: flex;flex-direction: column;z-index: 1;position: relative;background-color: white;}#sk-container-id-2 div.sk-parallel-item:first-child::after {align-self: flex-end;width: 50%;}#sk-container-id-2 div.sk-parallel-item:last-child::after {align-self: flex-start;width: 50%;}#sk-container-id-2 div.sk-parallel-item:only-child::after {width: 0;}#sk-container-id-2 div.sk-dashed-wrapped {border: 1px dashed gray;margin: 0 0.4em 0.5em 0.4em;box-sizing: border-box;padding-bottom: 0.4em;background-color: white;}#sk-container-id-2 div.sk-label label {font-family: monospace;font-weight: bold;display: inline-block;line-height: 1.2em;}#sk-container-id-2 div.sk-label-container {text-align: center;}#sk-container-id-2 div.sk-container {/* jupyter's `normalize.less` sets `[hidden] { display: none; }` but bootstrap.min.css set `[hidden] { display: none !important; }` so we also need the `!important` here to be able to override the default hidden behavior on the sphinx rendered scikit-learn.org. See: https://github.com/scikit-learn/scikit-learn/issues/21755 */display: inline-block !important;position: relative;}#sk-container-id-2 div.sk-text-repr-fallback {display: none;}</style><div id=\"sk-container-id-2\" class=\"sk-top-container\"><div class=\"sk-text-repr-fallback\"><pre>LinearSVC()</pre><b>In a Jupyter environment, please rerun this cell to show the HTML representation or trust the notebook. <br />On GitHub, the HTML representation is unable to render, please try loading this page with nbviewer.org.</b></div><div class=\"sk-container\" hidden><div class=\"sk-item\"><div class=\"sk-estimator sk-toggleable\"><input class=\"sk-toggleable__control sk-hidden--visually\" id=\"sk-estimator-id-2\" type=\"checkbox\" checked><label for=\"sk-estimator-id-2\" class=\"sk-toggleable__label sk-toggleable__label-arrow\">LinearSVC</label><div class=\"sk-toggleable__content\"><pre>LinearSVC()</pre></div></div></div></div></div>"
      ],
      "text/plain": [
       "LinearSVC()"
      ]
     },
     "execution_count": 64,
     "metadata": {},
     "output_type": "execute_result"
    }
   ],
   "source": [
    "lsvc = LinearSVC(multi_class='ovr')\n",
    "lsvc.fit(X_train_tf, y_train)"
   ]
  },
  {
   "cell_type": "code",
   "execution_count": 65,
   "id": "10478764",
   "metadata": {},
   "outputs": [],
   "source": [
    "svm_pred = lsvc.predict(X_test_tf)"
   ]
  },
  {
   "cell_type": "code",
   "execution_count": 66,
   "id": "b59f14f2",
   "metadata": {},
   "outputs": [
    {
     "name": "stdout",
     "output_type": "stream",
     "text": [
      "Results for SVM:\n",
      "                    precision    recall  f1-score   support\n",
      "\n",
      "         religion       0.96      0.95      0.96      1589\n",
      "              age       0.94      0.98      0.96      1574\n",
      "        ethnicity       0.98      0.99      0.98      1552\n",
      "           gender       0.93      0.89      0.91      1494\n",
      "not_cyberbullying       0.82      0.82      0.82      1398\n",
      "\n",
      "         accuracy                           0.93      7607\n",
      "        macro avg       0.93      0.93      0.93      7607\n",
      "     weighted avg       0.93      0.93      0.93      7607\n",
      "\n"
     ]
    }
   ],
   "source": [
    "print('Results for SVM:\\n',\n",
    "      classification_report(y_test, svm_pred, target_names=classes))"
   ]
  },
  {
   "cell_type": "code",
   "execution_count": 73,
   "id": "4b5918f0",
   "metadata": {},
   "outputs": [
    {
     "data": {
      "image/png": "[encoded data removed]",
      "text/plain": [
       "<Figure size 432x288 with 2 Axes>"
      ]
     },
     "metadata": {
      "needs_background": "light"
     },
     "output_type": "display_data"
    }
   ],
   "source": [
    "conf_matrix = confusion_matrix(y_test, svm_pred)\n",
    "sns.heatmap(conf_matrix,\n",
    "            annot=True,\n",
    "            fmt='g',\n",
    "            xticklabels=classes,\n",
    "            yticklabels=classes,\n",
    "    )\n",
    "plt.ylabel('Prediction',fontsize=15)\n",
    "plt.xlabel('Actual',fontsize=15)\n",
    "plt.title('Confusion Matrix for SVM',fontsize=20)\n",
    "plt.show()"
   ]
  },
  {
   "cell_type": "code",
   "execution_count": 68,
   "id": "29570401",
   "metadata": {},
   "outputs": [],
   "source": [
    "#clf = OneVsRestClassifier(svm.SVC(gamma=0.01, C=100., probability=True, class_weight='balanced', kernel='linear'))\n",
    "#clf_output = clf.fit(X_train_tf, y_train)"
   ]
  },
  {
   "cell_type": "code",
   "execution_count": 69,
   "id": "155c5e9f",
   "metadata": {},
   "outputs": [],
   "source": [
    "#clf_pred = clf.predict(X_test_tf)"
   ]
  },
  {
   "cell_type": "code",
   "execution_count": 70,
   "id": "5ba5c381",
   "metadata": {},
   "outputs": [],
   "source": [
    "#print('Classification Report for SVM:\\n',\n",
    "  #    classification_report(y_test, clf_pred, target_names=classes))"
   ]
  },
  {
   "cell_type": "code",
   "execution_count": 71,
   "id": "14950ccc",
   "metadata": {},
   "outputs": [],
   "source": [
    "#conf_matrix = confusion_matrix(y_test, clf_pred)\n",
    "#sns.heatmap(conf_matrix,\n",
    "#            annot=True,\n",
    "#            fmt='g',\n",
    "#            xticklabels=classes,\n",
    "#            yticklabels=classes,\n",
    "#    )\n",
    "#plt.ylabel('Prediction',fontsize=15)\n",
    "#plt.xlabel('Actual',fontsize=15)\n",
    "#plt.title('Confusion Matrix',fontsize=20)\n",
    "#plt.show()"
   ]
  }
 ],
 "metadata": {
  "kernelspec": {
   "display_name": "Python 3",
   "language": "python",
   "name": "python3"
  },
  "language_info": {
   "codemirror_mode": {
    "name": "ipython",
    "version": 3
   },
   "file_extension": ".py",
   "mimetype": "text/x-python",
   "name": "python",
   "nbconvert_exporter": "python",
   "pygments_lexer": "ipython3",
   "version": "3.8.8"
  }
 },
 "nbformat": 4,
 "nbformat_minor": 5
}
